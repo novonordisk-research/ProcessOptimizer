{
 "cells": [
  {
   "cell_type": "markdown",
   "metadata": {},
   "source": [
    "# Benchmarking\n",
    "\n",
    "We want to test the behavior of ProcessOptimizer on different model systems with\n",
    "different settings. First, we create a list of dicts, where each dict contains the\n",
    "settings to use."
   ]
  },
  {
   "cell_type": "code",
   "execution_count": 1,
   "metadata": {},
   "outputs": [],
   "source": [
    "from itertools import product\n",
    "from typing import Union\n",
    "\n",
    "from ProcessOptimizer.model_systems.benchmark import run_test_optimization\n",
    "\n",
    "MODEL_SYSTEM_NAMES = [\n",
    "    #\"branin_hoo\",\n",
    "    \"hart3\",\n",
    "    \"hart6\",\n",
    "]\n",
    "EXPERIMENT_BUDGET = 100 # How many evaluations we can do in total per optimization\n",
    "NUM_REPLICATIONS = 2 # How many times to perform each optimization\n",
    "NOISE_LEVELS = [0.0, 0.2]#, 1.0, 5.0, 10.0] # What to multiply the noise of the modelsystem by\n",
    "TARGET_LEVEL = [0.01, 0.1] # How close to the true minimum we want to get\n",
    "N_INITIAL_POINTS = [4, 10]\n",
    "\n",
    "seed = 0 # Seed for \"randomly\" making noise, ensures reproducibility\n",
    "tests : list[dict[str, Union[str, float, int]]] = [] # Consider making a \"test\" dataclass for better typing\n",
    "for model_system_name, relative_noise_level, n_initial_points, target_level in product(\n",
    "    MODEL_SYSTEM_NAMES,\n",
    "    NOISE_LEVELS,\n",
    "    N_INITIAL_POINTS,\n",
    "    TARGET_LEVEL\n",
    "):\n",
    "    for _ in range(NUM_REPLICATIONS): # Adding NUM_REPLICATIONS tests for each combination\n",
    "        seed += 1 # Each test should have a different seed\n",
    "        test = {\n",
    "            \"model_system_name\": model_system_name,\n",
    "            \"noise_level\": relative_noise_level,\n",
    "            \"n_initial_points\": n_initial_points,\n",
    "            \"target_level\": target_level,\n",
    "            \"experiment_budget\": EXPERIMENT_BUDGET,\n",
    "            \"seed\": seed\n",
    "        }\n",
    "        tests.append(test)"
   ]
  },
  {
   "cell_type": "code",
   "execution_count": 2,
   "metadata": {},
   "outputs": [
    {
     "name": "stdout",
     "output_type": "stream",
     "text": [
      "[{'model_system_name': 'hart3', 'noise_level': 0.0, 'n_initial_points': 4, 'target_level': 0.01, 'experiment_budget': 100, 'seed': 1}, {'model_system_name': 'hart3', 'noise_level': 0.0, 'n_initial_points': 4, 'target_level': 0.01, 'experiment_budget': 100, 'seed': 2}, {'model_system_name': 'hart3', 'noise_level': 0.0, 'n_initial_points': 4, 'target_level': 0.1, 'experiment_budget': 100, 'seed': 3}, {'model_system_name': 'hart3', 'noise_level': 0.0, 'n_initial_points': 4, 'target_level': 0.1, 'experiment_budget': 100, 'seed': 4}, {'model_system_name': 'hart3', 'noise_level': 0.0, 'n_initial_points': 10, 'target_level': 0.01, 'experiment_budget': 100, 'seed': 5}, {'model_system_name': 'hart3', 'noise_level': 0.0, 'n_initial_points': 10, 'target_level': 0.01, 'experiment_budget': 100, 'seed': 6}, {'model_system_name': 'hart3', 'noise_level': 0.0, 'n_initial_points': 10, 'target_level': 0.1, 'experiment_budget': 100, 'seed': 7}, {'model_system_name': 'hart3', 'noise_level': 0.0, 'n_initial_points': 10, 'target_level': 0.1, 'experiment_budget': 100, 'seed': 8}, {'model_system_name': 'hart3', 'noise_level': 0.2, 'n_initial_points': 4, 'target_level': 0.01, 'experiment_budget': 100, 'seed': 9}, {'model_system_name': 'hart3', 'noise_level': 0.2, 'n_initial_points': 4, 'target_level': 0.01, 'experiment_budget': 100, 'seed': 10}, {'model_system_name': 'hart3', 'noise_level': 0.2, 'n_initial_points': 4, 'target_level': 0.1, 'experiment_budget': 100, 'seed': 11}, {'model_system_name': 'hart3', 'noise_level': 0.2, 'n_initial_points': 4, 'target_level': 0.1, 'experiment_budget': 100, 'seed': 12}, {'model_system_name': 'hart3', 'noise_level': 0.2, 'n_initial_points': 10, 'target_level': 0.01, 'experiment_budget': 100, 'seed': 13}, {'model_system_name': 'hart3', 'noise_level': 0.2, 'n_initial_points': 10, 'target_level': 0.01, 'experiment_budget': 100, 'seed': 14}, {'model_system_name': 'hart3', 'noise_level': 0.2, 'n_initial_points': 10, 'target_level': 0.1, 'experiment_budget': 100, 'seed': 15}, {'model_system_name': 'hart3', 'noise_level': 0.2, 'n_initial_points': 10, 'target_level': 0.1, 'experiment_budget': 100, 'seed': 16}, {'model_system_name': 'hart6', 'noise_level': 0.0, 'n_initial_points': 4, 'target_level': 0.01, 'experiment_budget': 100, 'seed': 17}, {'model_system_name': 'hart6', 'noise_level': 0.0, 'n_initial_points': 4, 'target_level': 0.01, 'experiment_budget': 100, 'seed': 18}, {'model_system_name': 'hart6', 'noise_level': 0.0, 'n_initial_points': 4, 'target_level': 0.1, 'experiment_budget': 100, 'seed': 19}, {'model_system_name': 'hart6', 'noise_level': 0.0, 'n_initial_points': 4, 'target_level': 0.1, 'experiment_budget': 100, 'seed': 20}, {'model_system_name': 'hart6', 'noise_level': 0.0, 'n_initial_points': 10, 'target_level': 0.01, 'experiment_budget': 100, 'seed': 21}, {'model_system_name': 'hart6', 'noise_level': 0.0, 'n_initial_points': 10, 'target_level': 0.01, 'experiment_budget': 100, 'seed': 22}, {'model_system_name': 'hart6', 'noise_level': 0.0, 'n_initial_points': 10, 'target_level': 0.1, 'experiment_budget': 100, 'seed': 23}, {'model_system_name': 'hart6', 'noise_level': 0.0, 'n_initial_points': 10, 'target_level': 0.1, 'experiment_budget': 100, 'seed': 24}, {'model_system_name': 'hart6', 'noise_level': 0.2, 'n_initial_points': 4, 'target_level': 0.01, 'experiment_budget': 100, 'seed': 25}, {'model_system_name': 'hart6', 'noise_level': 0.2, 'n_initial_points': 4, 'target_level': 0.01, 'experiment_budget': 100, 'seed': 26}, {'model_system_name': 'hart6', 'noise_level': 0.2, 'n_initial_points': 4, 'target_level': 0.1, 'experiment_budget': 100, 'seed': 27}, {'model_system_name': 'hart6', 'noise_level': 0.2, 'n_initial_points': 4, 'target_level': 0.1, 'experiment_budget': 100, 'seed': 28}, {'model_system_name': 'hart6', 'noise_level': 0.2, 'n_initial_points': 10, 'target_level': 0.01, 'experiment_budget': 100, 'seed': 29}, {'model_system_name': 'hart6', 'noise_level': 0.2, 'n_initial_points': 10, 'target_level': 0.01, 'experiment_budget': 100, 'seed': 30}, {'model_system_name': 'hart6', 'noise_level': 0.2, 'n_initial_points': 10, 'target_level': 0.1, 'experiment_budget': 100, 'seed': 31}, {'model_system_name': 'hart6', 'noise_level': 0.2, 'n_initial_points': 10, 'target_level': 0.1, 'experiment_budget': 100, 'seed': 32}]\n"
     ]
    }
   ],
   "source": [
    "print(tests)"
   ]
  },
  {
   "cell_type": "markdown",
   "metadata": {},
   "source": [
    "Then, we create the function to run the test on each member of the list."
   ]
  },
  {
   "cell_type": "markdown",
   "metadata": {},
   "source": [
    "We can run one of the tests."
   ]
  },
  {
   "cell_type": "code",
   "execution_count": 18,
   "metadata": {},
   "outputs": [
    {
     "data": {
      "text/plain": [
       "({'model_system_name': 'hart3',\n",
       "  'noise_level': 0.0,\n",
       "  'n_initial_points': 4,\n",
       "  'target_level': 0.01,\n",
       "  'experiment_budget': 100,\n",
       "  'seed': 1},\n",
       " 15,\n",
       " True)"
      ]
     },
     "execution_count": 18,
     "metadata": {},
     "output_type": "execute_result"
    }
   ],
   "source": [
    "run_test_optimization(tests[0])"
   ]
  },
  {
   "cell_type": "code",
   "execution_count": 2,
   "metadata": {},
   "outputs": [
    {
     "name": "stdout",
     "output_type": "stream",
     "text": [
      "Test {'model_system_name': 'hart3', 'noise_level': 0.0, 'n_initial_points': 4, 'target_level': 0.01, 'experiment_budget': 100, 'seed': 1} took 15 evaluations and finished\n",
      "Test {'model_system_name': 'hart3', 'noise_level': 0.0, 'n_initial_points': 4, 'target_level': 0.01, 'experiment_budget': 100, 'seed': 2} took 15 evaluations and finished\n",
      "Test {'model_system_name': 'hart3', 'noise_level': 0.0, 'n_initial_points': 4, 'target_level': 0.1, 'experiment_budget': 100, 'seed': 3} took 1 evaluations and finished\n",
      "Test {'model_system_name': 'hart3', 'noise_level': 0.0, 'n_initial_points': 4, 'target_level': 0.1, 'experiment_budget': 100, 'seed': 4} took 1 evaluations and finished\n",
      "Test {'model_system_name': 'hart3', 'noise_level': 0.0, 'n_initial_points': 10, 'target_level': 0.01, 'experiment_budget': 100, 'seed': 5} took 14 evaluations and finished\n",
      "Test {'model_system_name': 'hart3', 'noise_level': 0.0, 'n_initial_points': 10, 'target_level': 0.01, 'experiment_budget': 100, 'seed': 6} took 14 evaluations and finished\n",
      "Test {'model_system_name': 'hart3', 'noise_level': 0.0, 'n_initial_points': 10, 'target_level': 0.1, 'experiment_budget': 100, 'seed': 7} took 12 evaluations and finished\n",
      "Test {'model_system_name': 'hart3', 'noise_level': 0.0, 'n_initial_points': 10, 'target_level': 0.1, 'experiment_budget': 100, 'seed': 8} took 12 evaluations and finished\n",
      "Test {'model_system_name': 'hart3', 'noise_level': 0.2, 'n_initial_points': 4, 'target_level': 0.01, 'experiment_budget': 100, 'seed': 9} took 15 evaluations and finished\n",
      "Test {'model_system_name': 'hart3', 'noise_level': 0.2, 'n_initial_points': 4, 'target_level': 0.01, 'experiment_budget': 100, 'seed': 10} took 15 evaluations and finished\n",
      "Test {'model_system_name': 'hart3', 'noise_level': 0.2, 'n_initial_points': 4, 'target_level': 0.1, 'experiment_budget': 100, 'seed': 11} took 1 evaluations and finished\n",
      "Test {'model_system_name': 'hart3', 'noise_level': 0.2, 'n_initial_points': 4, 'target_level': 0.1, 'experiment_budget': 100, 'seed': 12} took 1 evaluations and finished\n",
      "Test {'model_system_name': 'hart3', 'noise_level': 0.2, 'n_initial_points': 10, 'target_level': 0.01, 'experiment_budget': 100, 'seed': 13} took 14 evaluations and finished\n",
      "Test {'model_system_name': 'hart3', 'noise_level': 0.2, 'n_initial_points': 10, 'target_level': 0.01, 'experiment_budget': 100, 'seed': 14} took 14 evaluations and finished\n",
      "Test {'model_system_name': 'hart3', 'noise_level': 0.2, 'n_initial_points': 10, 'target_level': 0.1, 'experiment_budget': 100, 'seed': 15} took 13 evaluations and finished\n",
      "Test {'model_system_name': 'hart3', 'noise_level': 0.2, 'n_initial_points': 10, 'target_level': 0.1, 'experiment_budget': 100, 'seed': 16} took 12 evaluations and finished\n",
      "Test {'model_system_name': 'hart6', 'noise_level': 0.0, 'n_initial_points': 4, 'target_level': 0.01, 'experiment_budget': 100, 'seed': 17} took 35 evaluations and finished\n",
      "Test {'model_system_name': 'hart6', 'noise_level': 0.0, 'n_initial_points': 4, 'target_level': 0.01, 'experiment_budget': 100, 'seed': 18} took 27 evaluations and finished\n",
      "Test {'model_system_name': 'hart6', 'noise_level': 0.0, 'n_initial_points': 4, 'target_level': 0.1, 'experiment_budget': 100, 'seed': 19} took 12 evaluations and finished\n",
      "Test {'model_system_name': 'hart6', 'noise_level': 0.0, 'n_initial_points': 4, 'target_level': 0.1, 'experiment_budget': 100, 'seed': 20} took 12 evaluations and finished\n",
      "Test {'model_system_name': 'hart6', 'noise_level': 0.0, 'n_initial_points': 10, 'target_level': 0.01, 'experiment_budget': 100, 'seed': 21} took 32 evaluations and finished\n",
      "Test {'model_system_name': 'hart6', 'noise_level': 0.0, 'n_initial_points': 10, 'target_level': 0.01, 'experiment_budget': 100, 'seed': 22} took 40 evaluations and finished\n",
      "Test {'model_system_name': 'hart6', 'noise_level': 0.0, 'n_initial_points': 10, 'target_level': 0.1, 'experiment_budget': 100, 'seed': 23} took 29 evaluations and finished\n",
      "Test {'model_system_name': 'hart6', 'noise_level': 0.0, 'n_initial_points': 10, 'target_level': 0.1, 'experiment_budget': 100, 'seed': 24} took 26 evaluations and finished\n",
      "Test {'model_system_name': 'hart6', 'noise_level': 0.2, 'n_initial_points': 4, 'target_level': 0.01, 'experiment_budget': 100, 'seed': 25} took 38 evaluations and finished\n",
      "Test {'model_system_name': 'hart6', 'noise_level': 0.2, 'n_initial_points': 4, 'target_level': 0.01, 'experiment_budget': 100, 'seed': 26} took 49 evaluations and finished\n",
      "Test {'model_system_name': 'hart6', 'noise_level': 0.2, 'n_initial_points': 4, 'target_level': 0.1, 'experiment_budget': 100, 'seed': 27} took 17 evaluations and finished\n",
      "Test {'model_system_name': 'hart6', 'noise_level': 0.2, 'n_initial_points': 4, 'target_level': 0.1, 'experiment_budget': 100, 'seed': 28} took 15 evaluations and finished\n",
      "Test {'model_system_name': 'hart6', 'noise_level': 0.2, 'n_initial_points': 10, 'target_level': 0.01, 'experiment_budget': 100, 'seed': 29} took 34 evaluations and finished\n",
      "Test {'model_system_name': 'hart6', 'noise_level': 0.2, 'n_initial_points': 10, 'target_level': 0.01, 'experiment_budget': 100, 'seed': 30} took 32 evaluations and finished\n",
      "Test {'model_system_name': 'hart6', 'noise_level': 0.2, 'n_initial_points': 10, 'target_level': 0.1, 'experiment_budget': 100, 'seed': 31} took 27 evaluations and finished\n",
      "Test {'model_system_name': 'hart6', 'noise_level': 0.2, 'n_initial_points': 10, 'target_level': 0.1, 'experiment_budget': 100, 'seed': 32} took 29 evaluations and finished\n"
     ]
    }
   ],
   "source": [
    "for test in tests:\n",
    "    test, n_evaluations, finished = run_test_optimization(test)\n",
    "    print(f\"Test {test} took {n_evaluations} evaluations and {'finished' if finished else 'did not finish'}\")"
   ]
  },
  {
   "cell_type": "markdown",
   "metadata": {},
   "source": [
    "We can run all of the tests in parallel."
   ]
  },
  {
   "cell_type": "code",
   "execution_count": 5,
   "metadata": {},
   "outputs": [],
   "source": [
    "from multiprocessing import Pool\n",
    "\n",
    "if __name__ == '__main__':\n",
    "    with Pool() as p:\n",
    "        result = p.map(run_test_optimization, tests)"
   ]
  },
  {
   "cell_type": "code",
   "execution_count": 4,
   "metadata": {},
   "outputs": [
    {
     "name": "stdout",
     "output_type": "stream",
     "text": [
      "[({'model_system_name': 'hart3', 'noise_level': 0.0, 'n_initial_points': 4, 'target_level': 0.01, 'experiment_budget': 100, 'seed': 1}, 15, True), ({'model_system_name': 'hart3', 'noise_level': 0.0, 'n_initial_points': 4, 'target_level': 0.01, 'experiment_budget': 100, 'seed': 2}, 15, True), ({'model_system_name': 'hart3', 'noise_level': 0.0, 'n_initial_points': 4, 'target_level': 0.1, 'experiment_budget': 100, 'seed': 3}, 1, True), ({'model_system_name': 'hart3', 'noise_level': 0.0, 'n_initial_points': 4, 'target_level': 0.1, 'experiment_budget': 100, 'seed': 4}, 1, True), ({'model_system_name': 'hart3', 'noise_level': 0.0, 'n_initial_points': 10, 'target_level': 0.01, 'experiment_budget': 100, 'seed': 5}, 16, True), ({'model_system_name': 'hart3', 'noise_level': 0.0, 'n_initial_points': 10, 'target_level': 0.01, 'experiment_budget': 100, 'seed': 6}, 14, True), ({'model_system_name': 'hart3', 'noise_level': 0.0, 'n_initial_points': 10, 'target_level': 0.1, 'experiment_budget': 100, 'seed': 7}, 12, True), ({'model_system_name': 'hart3', 'noise_level': 0.0, 'n_initial_points': 10, 'target_level': 0.1, 'experiment_budget': 100, 'seed': 8}, 12, True), ({'model_system_name': 'hart3', 'noise_level': 0.2, 'n_initial_points': 4, 'target_level': 0.01, 'experiment_budget': 100, 'seed': 9}, 15, True), ({'model_system_name': 'hart3', 'noise_level': 0.2, 'n_initial_points': 4, 'target_level': 0.01, 'experiment_budget': 100, 'seed': 10}, 15, True), ({'model_system_name': 'hart3', 'noise_level': 0.2, 'n_initial_points': 4, 'target_level': 0.1, 'experiment_budget': 100, 'seed': 11}, 1, True), ({'model_system_name': 'hart3', 'noise_level': 0.2, 'n_initial_points': 4, 'target_level': 0.1, 'experiment_budget': 100, 'seed': 12}, 1, True), ({'model_system_name': 'hart3', 'noise_level': 0.2, 'n_initial_points': 10, 'target_level': 0.01, 'experiment_budget': 100, 'seed': 13}, 14, True), ({'model_system_name': 'hart3', 'noise_level': 0.2, 'n_initial_points': 10, 'target_level': 0.01, 'experiment_budget': 100, 'seed': 14}, 14, True), ({'model_system_name': 'hart3', 'noise_level': 0.2, 'n_initial_points': 10, 'target_level': 0.1, 'experiment_budget': 100, 'seed': 15}, 13, True), ({'model_system_name': 'hart3', 'noise_level': 0.2, 'n_initial_points': 10, 'target_level': 0.1, 'experiment_budget': 100, 'seed': 16}, 12, True), ({'model_system_name': 'hart6', 'noise_level': 0.0, 'n_initial_points': 4, 'target_level': 0.01, 'experiment_budget': 100, 'seed': 17}, 37, True), ({'model_system_name': 'hart6', 'noise_level': 0.0, 'n_initial_points': 4, 'target_level': 0.01, 'experiment_budget': 100, 'seed': 18}, 24, True), ({'model_system_name': 'hart6', 'noise_level': 0.0, 'n_initial_points': 4, 'target_level': 0.1, 'experiment_budget': 100, 'seed': 19}, 19, True), ({'model_system_name': 'hart6', 'noise_level': 0.0, 'n_initial_points': 4, 'target_level': 0.1, 'experiment_budget': 100, 'seed': 20}, 14, True), ({'model_system_name': 'hart6', 'noise_level': 0.0, 'n_initial_points': 10, 'target_level': 0.01, 'experiment_budget': 100, 'seed': 21}, 35, True), ({'model_system_name': 'hart6', 'noise_level': 0.0, 'n_initial_points': 10, 'target_level': 0.01, 'experiment_budget': 100, 'seed': 22}, 40, True), ({'model_system_name': 'hart6', 'noise_level': 0.0, 'n_initial_points': 10, 'target_level': 0.1, 'experiment_budget': 100, 'seed': 23}, 28, True), ({'model_system_name': 'hart6', 'noise_level': 0.0, 'n_initial_points': 10, 'target_level': 0.1, 'experiment_budget': 100, 'seed': 24}, 29, True), ({'model_system_name': 'hart6', 'noise_level': 0.2, 'n_initial_points': 4, 'target_level': 0.01, 'experiment_budget': 100, 'seed': 25}, 33, True), ({'model_system_name': 'hart6', 'noise_level': 0.2, 'n_initial_points': 4, 'target_level': 0.01, 'experiment_budget': 100, 'seed': 26}, 35, True), ({'model_system_name': 'hart6', 'noise_level': 0.2, 'n_initial_points': 4, 'target_level': 0.1, 'experiment_budget': 100, 'seed': 27}, 7, True), ({'model_system_name': 'hart6', 'noise_level': 0.2, 'n_initial_points': 4, 'target_level': 0.1, 'experiment_budget': 100, 'seed': 28}, 16, True), ({'model_system_name': 'hart6', 'noise_level': 0.2, 'n_initial_points': 10, 'target_level': 0.01, 'experiment_budget': 100, 'seed': 29}, 32, True), ({'model_system_name': 'hart6', 'noise_level': 0.2, 'n_initial_points': 10, 'target_level': 0.01, 'experiment_budget': 100, 'seed': 30}, 33, True), ({'model_system_name': 'hart6', 'noise_level': 0.2, 'n_initial_points': 10, 'target_level': 0.1, 'experiment_budget': 100, 'seed': 31}, 28, True), ({'model_system_name': 'hart6', 'noise_level': 0.2, 'n_initial_points': 10, 'target_level': 0.1, 'experiment_budget': 100, 'seed': 32}, 30, True)]\n"
     ]
    }
   ],
   "source": [
    "print(result)"
   ]
  }
 ],
 "metadata": {
  "kernelspec": {
   "display_name": ".env",
   "language": "python",
   "name": "python3"
  },
  "language_info": {
   "codemirror_mode": {
    "name": "ipython",
    "version": 3
   },
   "file_extension": ".py",
   "mimetype": "text/x-python",
   "name": "python",
   "nbconvert_exporter": "python",
   "pygments_lexer": "ipython3",
   "version": "3.9.1"
  }
 },
 "nbformat": 4,
 "nbformat_minor": 2
}
